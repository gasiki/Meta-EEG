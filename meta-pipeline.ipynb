{
 "cells": [
  {
   "cell_type": "markdown",
   "source": [
    "# This file can be used as example for using Reptile meta-learning algorithm for EEG-data\n",
    "## Data loading from BRAIN DECODE"
   ],
   "metadata": {
    "collapsed": false,
    "pycharm": {
     "name": "#%% md\n"
    }
   }
  },
  {
   "cell_type": "code",
   "execution_count": null,
   "metadata": {
    "collapsed": true,
    "pycharm": {
     "name": "#%%\n"
    }
   },
   "outputs": [],
   "source": [
    "from braindecode.datasets.moabb import MOABBDataset\n",
    "import os\n",
    "from braindecode.datautil.preprocess import (exponential_moving_standardize, preprocess, Preprocessor)\n",
    "from braindecode.datautil.windowers import create_windows_from_events\n",
    "import pandas as pd\n",
    "subject_ids = [1, 2, 3, 4, 5, 6, 7, 8, 9] #full list of subjects\n",
    "ds = MOABBDataset(dataset_name=\"BNCI2014001\", subject_ids=subject_ids) #load BCI IV data from brain decode\n",
    "low_cut = 4. #low cut freq\n",
    "high_cut = 38. #hi cut freq\n",
    "factor_new = 1e-3\n",
    "init_block_size = 1000\n",
    "preprocessors = [\n",
    "    Preprocessor('pick_types', eeg=True, meg=False, stim=False),\n",
    "    Preprocessor(lambda x: x*1e6),\n",
    "    Preprocessor('filter', l_freq=low_cut, h_freq=high_cut),\n",
    "    Preprocessor(exponential_moving_standardize, factor_new=factor_new, init_block_size=init_block_size)\n",
    "]\n",
    "preprocess(ds, preprocessors)\n",
    "trial_start_ofset = -0.5\n",
    "sfreq = ds.datasets[0].raw.info['sfreq']\n",
    "assert all([d.raw.info['sfreq'] == sfreq for d in ds.datasets])\n",
    "trial_start_ofset_samples = int(trial_start_ofset * sfreq)\n",
    "w_ds = create_windows_from_events(\n",
    "    ds,\n",
    "    trial_start_offset_samples=trial_start_ofset_samples,\n",
    "    trial_stop_offset_samples=0,\n",
    "    preload=True\n",
    ")\n",
    "X = []\n",
    "Y = []\n",
    "Window = []\n",
    "dsub = w_ds.split(\"subject\")\n",
    "os.mkdir('data')\n",
    "for sub in subject_ids:\n",
    "    sub_path = \"./data/subj_\" + str(sub)\n",
    "    os.mkdir(sub_path)\n",
    "    sds = dsub[str(sub)].split(\"session\")\n",
    "    for x, y, window in sds[\"session_T\"]:\n",
    "        X.append(x)\n",
    "        Y.append(y)\n",
    "        Window.append(window)\n",
    "    data_dict = {'X': X, 'Y': Y, 'window_data': Window}\n",
    "    df = pd.DataFrame.from_dict(data_dict)\n",
    "    path = sub_path + '/' + 'train_data.csv'\n",
    "    df.to_csv(path)\n",
    "    X.clear()\n",
    "    Y.clear()\n",
    "    Window.clear()\n",
    "    for x, y, window in sds[\"session_E\"]:\n",
    "        X.append(x)\n",
    "        Y.append(y)\n",
    "        Window.append(window)\n",
    "    data_dict = {'X': X, 'Y': Y, 'window_data': Window}\n",
    "    df = pd.DataFrame.from_dict(data_dict)\n",
    "    path = sub_path + '/' + 'validation_data.csv'\n",
    "    df.to_csv(path)"
   ]
  }
 ],
 "metadata": {
  "kernelspec": {
   "display_name": "Python 3",
   "language": "python",
   "name": "python3"
  },
  "language_info": {
   "codemirror_mode": {
    "name": "ipython",
    "version": 2
   },
   "file_extension": ".py",
   "mimetype": "text/x-python",
   "name": "python",
   "nbconvert_exporter": "python",
   "pygments_lexer": "ipython2",
   "version": "2.7.6"
  }
 },
 "nbformat": 4,
 "nbformat_minor": 0
}