{
 "cells": [
  {
   "cell_type": "markdown",
   "metadata": {
    "pycharm": {
     "name": "#%% md\n"
    }
   },
   "source": [
    "# This file is example for using Reptile meta-learning algorithm for EEG-data\n"
   ]
  },
  {
   "cell_type": "code",
   "execution_count": null,
   "metadata": {
    "pycharm": {
     "name": "#%%\n"
    }
   },
   "outputs": [],
   "source": [
    "from braindecode.datasets.moabb import MOABBDataset\n",
    "import os\n",
    "import numpy as np\n",
    "from braindecode.datautil.preprocess import (exponential_moving_standardize, preprocess, Preprocessor)\n",
    "from braindecode.datautil.windowers import create_windows_from_events\n",
    "import pandas as pd\n",
    "import numpy as np\n",
    "import torch\n",
    "import Meta_EEG as me"
   ]
  },
  {
   "cell_type": "markdown",
   "metadata": {
    "pycharm": {
     "name": "#%% md\n"
    }
   },
   "source": [
    "## Data loading from Braindecode (BCI IV 2a dataset)\n",
    "Define properties of dataset"
   ]
  },
  {
   "cell_type": "code",
   "execution_count": null,
   "metadata": {
    "pycharm": {
     "name": "#%%\n"
    }
   },
   "outputs": [],
   "source": [
    "subject_ids = [1, 2, 3, 4, 5, 6, 7, 8, 9]   # all subjects id's\n",
    "test_size = 0.2\n",
    "pretrain_subj = [2,4,6]   # subjects which will be used for params optimization\n",
    "val_sub = [8]   # subjects which will be used for hyperparameters evaluation\n",
    "target_sub = [1,3,5,7,9] # target subjects for experiment"
   ]
  },
  {
   "cell_type": "markdown",
   "metadata": {
    "pycharm": {
     "name": "#%% md\n"
    }
   },
   "source": [
    "Load data and creating folders structure usable for meta-learning. Dataset and all data related to it will be stored in data_*[dataset_name]*:"
   ]
  },
  {
   "cell_type": "code",
   "execution_count": null,
   "metadata": {
    "pycharm": {
     "name": "#%%\n"
    }
   },
   "outputs": [],
   "source": [
    "ds = MOABBDataset(dataset_name = \"BNCI2014001\", subject_ids = subject_ids)\n",
    "low_cut = 4.\n",
    "high_cut = 38.\n",
    "factor_new = 1e-3\n",
    "init_block_size = 1000\n",
    "preprocessors = [\n",
    "    Preprocessor('pick_types', eeg=True, meg=False, stim=False),\n",
    "    Preprocessor(lambda x: x*1e6),\n",
    "    Preprocessor('filter', l_freq=low_cut, h_freq=high_cut),\n",
    "    Preprocessor(exponential_moving_standardize, factor_new=factor_new, init_block_size=init_block_size)\n",
    "]\n",
    "preprocess(ds, preprocessors)\n",
    "sfreq = ds.datasets[0].raw.info['sfreq']\n",
    "assert  all([d.raw.info['sfreq'] == sfreq for d in ds.datasets])\n",
    "trial_start_ofset_samples = 0\n",
    "w_ds = create_windows_from_events(\n",
    "    ds,\n",
    "    trial_start_offset_samples=trial_start_ofset_samples,\n",
    "    trial_stop_offset_samples=0,\n",
    "    preload=True\n",
    ")\n",
    "dataset_name = me.data_from_windows_dataset(dataset=w_ds, dataset_name='BCI_IV_2a', subjects=subject_ids, description='BCI IV 2a with 0.2 test and filtration 4-38 + exponential_m_sd (only EEG channels)')"
   ]
  },
  {
   "cell_type": "markdown",
   "metadata": {
    "pycharm": {
     "name": "#%% md\n"
    }
   },
   "source": [
    "## Model preparation\n",
    "In this part we define NN and will find params for meta-learning.\n",
    "Loading the NN model:"
   ]
  },
  {
   "cell_type": "code",
   "execution_count": null,
   "metadata": {
    "pycharm": {
     "name": "#%%\n"
    }
   },
   "outputs": [],
   "source": [
    "device = torch.device('cuda:0' if torch.cuda.is_available() else 'cpu')\n",
    "model = me.inEEG_Net(num_classes=4, dropout1=0.52, dropout2=0.36, f1=16, sampling_rate=250, num_channels=22,\n",
    "                     depth_multiplier=6, time_of_interest=500, time_points=1000, lowpass=50, point_reducer=5)\n",
    "optim = torch.optim.SGD(model.parameters(),lr=3)\n",
    "model.to(device)\n",
    "model_params = model.parameters()"
   ]
  },
  {
   "cell_type": "markdown",
   "metadata": {},
   "source": [
    "Find meta params for meta training:"
   ]
  },
  {
   "cell_type": "code",
   "execution_count": null,
   "metadata": {
    "pycharm": {
     "name": "#%%\n"
    }
   },
   "outputs": [],
   "source": [
    "meta_params = me.meta_params(dataset_name=dataset_name, tr_sub=pretrain_subj,\n",
    "                        tst_sub=val_sub, model_params=model_params,\n",
    "                        trials=50, jobs=50, double_meta_step=False,\n",
    "                        meta_optimizer=False)"
   ]
  },
  {
   "cell_type": "markdown",
   "metadata": {},
   "source": [
    "Pretrain NN's, it will be training on all subjects, exclude target subject for each target subject. Models will be stored in data_*[dataset_name]*/models:"
   ]
  },
  {
   "cell_type": "code",
   "execution_count": null,
   "metadata": {},
   "outputs": [],
   "source": [
    "pretraining_auc = me.pretrain(params=meta_params, model_params=model_params,\n",
    "                              all_subjects=subject_ids, target_sub=target_sub,\n",
    "                              dataset_name=dataset_name, meta_optimizer=False)\n",
    "print('Mean cold auc, after pretraining: ' + str(pretraining_auc))"
   ]
  },
  {
   "cell_type": "markdown",
   "metadata": {},
   "source": [
    "Find meta params for fine-tuning and few-shot learning:\n",
    "(in result we will have dict with *lr*, *a_ep*, *b_ep*, where a and b is linear approximation coefficients for few_shot learning *a * number of data points available - b)*:"
   ]
  },
  {
   "cell_type": "code",
   "execution_count": null,
   "metadata": {},
   "outputs": [],
   "source": [
    "af_params = me.aftrain_params(dataset_name=dataset_name, model_params=model_params,\n",
    "                              tst_subj=val_sub, trials=50, jobs=4)"
   ]
  },
  {
   "cell_type": "markdown",
   "metadata": {},
   "source": [
    "## Few shot learning experiment\n",
    "For each target sub will be performed few-shot learning *iterations* times with random picked data points."
   ]
  },
  {
   "cell_type": "code",
   "execution_count": null,
   "metadata": {},
   "outputs": [],
   "source": [
    "me.aftrain(target_sub=target_sub, model_params=model_params,\n",
    "           af_params=af_params, dataset_name=dataset_name, iterations=5, logging=True)"
   ]
  }
 ],
 "metadata": {
  "kernelspec": {
   "display_name": "Python 3 (ipykernel)",
   "language": "python",
   "name": "python3"
  },
  "language_info": {
   "codemirror_mode": {
    "name": "ipython",
    "version": 3
   },
   "file_extension": ".py",
   "mimetype": "text/x-python",
   "name": "python",
   "nbconvert_exporter": "python",
   "pygments_lexer": "ipython3",
   "version": "3.8.16"
  }
 },
 "nbformat": 4,
 "nbformat_minor": 1
}
